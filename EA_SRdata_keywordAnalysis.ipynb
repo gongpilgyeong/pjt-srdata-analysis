{
  "nbformat": 4,
  "nbformat_minor": 0,
  "metadata": {
    "colab": {
      "provenance": [],
      "collapsed_sections": [
        "ejpDOa7sW2Yh",
        "rchgKRtnk4mf",
        "kK8REoZmbdIx",
        "ZEWfU_vjF44n",
        "6PHqofR9uu1X",
        "VSUkhehJ-qlE"
      ],
      "include_colab_link": true
    },
    "kernelspec": {
      "name": "python3",
      "display_name": "Python 3"
    },
    "language_info": {
      "name": "python"
    },
    "gpuClass": "standard"
  },
  "cells": [
    {
      "cell_type": "markdown",
      "metadata": {
        "id": "view-in-github",
        "colab_type": "text"
      },
      "source": [
        "<a href=\"https://colab.research.google.com/github/pilgyeong/SR-keywordAnalysis/blob/main/EA_SRdata_keywordAnalysis.ipynb\" target=\"_parent\"><img src=\"https://colab.research.google.com/assets/colab-badge.svg\" alt=\"Open In Colab\"/></a>"
      ]
    },
    {
      "cell_type": "markdown",
      "source": [
        "# **0. 환경설정**"
      ],
      "metadata": {
        "id": "ejpDOa7sW2Yh"
      }
    },
    {
      "cell_type": "markdown",
      "source": [
        "#### **0-1. Drive Mount**"
      ],
      "metadata": {
        "id": "V-fedq4GBm15"
      }
    },
    {
      "cell_type": "code",
      "source": [
        "from google.colab import drive\n",
        "drive.mount('/content/drive')"
      ],
      "metadata": {
        "id": "4C_9V6WsP8U2",
        "colab": {
          "base_uri": "https://localhost:8080/"
        },
        "outputId": "79e4f3a4-3765-4744-bb18-18a5691efd9b"
      },
      "execution_count": 1,
      "outputs": [
        {
          "output_type": "stream",
          "name": "stdout",
          "text": [
            "Mounted at /content/drive\n"
          ]
        }
      ]
    },
    {
      "cell_type": "markdown",
      "source": [
        "####**0-2. Colab에서 konlpy 및 mecab 설치하기**\n",
        "- https://raw.githubusercontent.com/konlpy/konlpy/master/scripts/mecab.sh\n",
        "- Bash shell 명령어 활용"
      ],
      "metadata": {
        "id": "OB5a1NurWi44"
      }
    },
    {
      "cell_type": "code",
      "source": [
        "# install konlpy mecab package\n",
        "!set -x \\\n",
        "&& pip install konlpy \\\n",
        "&& curl -s https://raw.githubusercontent.com/konlpy/konlpy/master/scripts/mecab.sh | bash -x"
      ],
      "metadata": {
        "id": "lNDsvyx05pcj"
      },
      "execution_count": null,
      "outputs": []
    },
    {
      "cell_type": "markdown",
      "source": [
        "#### **0-2. 워드클라우드 및 폰트 설치**\n",
        "- Install wordcloud\n",
        "- Install squarify"
      ],
      "metadata": {
        "id": "hINBpj1ic12S"
      }
    },
    {
      "cell_type": "code",
      "source": [
        "!pip install wordcloud"
      ],
      "metadata": {
        "id": "IGUJ59OJNUAa"
      },
      "execution_count": null,
      "outputs": []
    },
    {
      "cell_type": "code",
      "source": [
        "!pip install squarify"
      ],
      "metadata": {
        "id": "qp_wgWhON_cZ"
      },
      "execution_count": null,
      "outputs": []
    },
    {
      "cell_type": "markdown",
      "source": [
        "# **1. 분석작업세팅**"
      ],
      "metadata": {
        "id": "i45KkynQCocH"
      }
    },
    {
      "cell_type": "markdown",
      "source": [
        "#### **1-1. Import packages**"
      ],
      "metadata": {
        "id": "rchgKRtnk4mf"
      }
    },
    {
      "cell_type": "code",
      "source": [
        "# 파이썬 일반\n",
        "import os\n",
        "import re\n",
        "import sys\n",
        "import json\n",
        "import tqdm\n",
        "import random\n",
        "import pickle\n",
        "import string\n",
        "import webbrowser\n",
        "import warnings\n",
        "warnings.filterwarnings('ignore')\n",
        "\n",
        "# 파이썬 데이터 분석/시각화 등\n",
        "import pandas as pd\n",
        "import numpy as np\n",
        "import matplotlib as mpl\n",
        "import matplotlib.pyplot as plt\n",
        "import seaborn as sns\n",
        "import gensim\n",
        "from matplotlib import rc\n",
        "from matplotlib import font_manager\n",
        "from collections import Counter\n",
        "from wordcloud import WordCloud\n",
        "\n",
        "from PIL import Image\n",
        "\n",
        "# 파이썬 텍스트/자연어 처리\n",
        "import nltk\n",
        "import tokenize\n",
        "from nltk.corpus import stopwords\n",
        "from nltk.tokenize import word_tokenize\n",
        "from sklearn.feature_extraction.text import TfidfVectorizer\n",
        "from sklearn.feature_extraction.text import TfidfTransformer\n",
        "from sklearn.feature_extraction.text import CountVectorizer\n",
        "from gensim.models.doc2vec import Doc2Vec, TaggedDocument\n",
        "from konlpy.tag import Mecab\n",
        "from sklearn.metrics.pairwise import linear_kernel\n",
        "from pykospacing import Spacing\n",
        "from tqdm import tqdm\n",
        "from math import log\n",
        "from sklearn.linear_model import LogisticRegression\n",
        "from sklearn.metrics import accuracy_score, precision_score, recall_score, f1_score\n",
        "from sklearn.metrics import confusion_matrix\n",
        "\n",
        "# 파이썬 기본 Setting\n",
        "fontpath = '/content/drive/MyDrive/Colab Notebooks/NanumGothic.ttf' #폰트경로\n",
        "\n",
        "# fit\n",
        "mecab = Mecab()"
      ],
      "metadata": {
        "id": "SZfwlIEskKR6"
      },
      "execution_count": 33,
      "outputs": []
    },
    {
      "cell_type": "markdown",
      "source": [
        "#### **1-2. To define a function**\n",
        "- make_wordlist : 의미있는 단어를 추출하여 리스트화 해주는 함수\n",
        "- preprocess : 주어진 문장에서 의미있는 단어를 추출하는 함수\n",
        "- extract_word : 한국어만 추출하는 함수\n",
        "- tf_idf : TF-IDF 벡터화 함수"
      ],
      "metadata": {
        "id": "38Vzjf5mRmDx"
      }
    },
    {
      "cell_type": "code",
      "source": [
        "# 의미있는 단어 리스트 추출해주는 함수\n",
        "def make_wordlist(text, stopwords): #text = \" \".join(data['Review'].tolist())\n",
        "    print(\"Rawdata를 문장 정리 중...\")\n",
        "    #정규표현식 적용\n",
        "    print(\"데이터 정제 중...\")\n",
        "    words = extract_word(text)\n",
        "    #형태소 추출\n",
        "    print(\"형태소 추출 중...\")\n",
        "    words = mecab.morphs(words)\n",
        "    #한글자 제거\n",
        "    print(\"한글자 제거 중...\")\n",
        "    words = [x for x in words if len(x)>1 or x =='닉']\n",
        "    #불용어 제거\n",
        "    print(\"불용어 제거 중...\")\n",
        "    words = [x for x in words if x not in stopwords]\n",
        "    #최소횟수 미만 제거\n",
        "    print(\"의미있는 단어리스트 생성 중...\")\n",
        "    # time.sleep(1)\n",
        "    minimum_count = 3\n",
        "    final = []\n",
        "    for i in tqdm(range(len(words))):\n",
        "      tmp = words[i]\n",
        "      if words.count(tmp) >= minimum_count:\n",
        "          final.append(tmp)\n",
        "    return set(final) #조건을 만족하는 단어 리스트\n",
        "\n",
        "# 문장 중 의미있는 단어를 전처리\n",
        "def preprocess(text, word_list):\n",
        "  text = extract_word(text)\n",
        "  mecab = Mecab()\n",
        "  text = mecab.morphs(text)\n",
        "  text = [x for x in text if x in word_list]\n",
        "  return text\n",
        "\n",
        "# 불용어리스트 만들기\n",
        "def load_stopwords(basepath):\n",
        "  print(\"불용어셋을 가져오고 있습니다.\")\n",
        "  with open(basepath, 'r', encoding = 'utf-8-sig') as f:\n",
        "    list_file = f.read().splitlines()\n",
        "  return list_file[0].split()\n",
        "\n",
        "# 한글 단어 외 모두 제거\n",
        "def extract_word(text):\n",
        "  hangul = re.compile('[^가-힣]') \n",
        "  result = hangul.sub(' ', text) \n",
        "  return result\n",
        "\n",
        "# TF-IDF Vectorizer 함수\n",
        "def tf_idf(self):\n",
        "  vectorizer = CountVectorizer(tokenizer = lambda x: preprocess(x, word_list))\n",
        "  data_features = vectorizer.fit_transform(self.tolist())\n",
        "  tfidf_vectorizer = TfidfTransformer()\n",
        "  tf_idf_vect = tfidf_vectorizer.fit_transform(data_features)\n",
        "  global invert_index_vectorizer\n",
        "  invert_index_vectorizer = {v: k for k, v in vectorizer.vocabulary_.items()}\n",
        "  return tf_idf_vect\n",
        "\n",
        "# CountVectorizer 함수\n",
        "def count_vectorizer(self):\n",
        "  vectorizer = CountVectorizer(tokenizer = lambda x: preprocess(x, word_list))\n",
        "  data_features = vectorizer.fit_transform(self.tolist())\n",
        "\n",
        "  # CountVectorizer Word(단어) List\n",
        "  list_of_word = vectorizer.get_feature_names()\n",
        "\n",
        "  # CountVectorizer Word Count(단어 빈도) List\n",
        "  count_list = data_features.toarray().sum(axis=0)\n",
        "\n",
        "  # list_of_word 및 count_list를 index 기준으로 묶음\n",
        "  word_count_dict = dict(zip(word_list, count_list))\n",
        "  return word_count_dict\n",
        "\n",
        "# 예측모델 성능지표 추출\n",
        "def model_performance(self):\n",
        "  # 예측모델 성능지표 값\n",
        "  print('accuracy: %.2f' % accuracy_score(y, y_pred))\n",
        "  print('precision: %.2f' % precision_score(y, y_pred))\n",
        "  print('recall: %.2f' % recall_score(y, y_pred))\n",
        "  print('F1: %.2f' % f1_score(y, y_pred))\n",
        "\n",
        "  # confusion matrix 시각화\n",
        "  confu = confusion_matrix(y_true = y, y_pred = y_pred)\n",
        "  plt.figure(figsize=(4, 3))\n",
        "  sns.heatmap(confu, annot=True, annot_kws={'size':15}, cmap='OrRd', fmt='.10g')\n",
        "  plt.title('Confusion Matrix')\n",
        "  plt.show()\n",
        "\n",
        "# 단어 개수 카운팅 함수\n",
        "def word_count(keyword):\n",
        "  cnt = 0\n",
        "  for word in df_content['text']:\n",
        "    temp_wordlist = preprocess(word, word_list)\n",
        "    if keyword in temp_wordlist:\n",
        "      cnt = cnt + 1\n",
        "  return cnt"
      ],
      "metadata": {
        "id": "W0G2gutURmDy"
      },
      "execution_count": 8,
      "outputs": []
    },
    {
      "cell_type": "markdown",
      "source": [
        "#### **1-3. Loading Rawdata & Stopwords**\n",
        "- Rawdata(dataframe) Load\n",
        "- StopWords(list) Create"
      ],
      "metadata": {
        "id": "kK8REoZmbdIx"
      }
    },
    {
      "cell_type": "code",
      "source": [
        "# 분석용 Raw Data Load\n",
        "path = '/content/drive/MyDrive/Colab Notebooks/srdata_keywordAnalysis/srdata_v2.csv'\n",
        "df = pd.read_csv(path)\n",
        "\n",
        "# # 불용어(StopWords) 리스트 생성\n",
        "stopword_path = '/content/drive/MyDrive/Colab Notebooks/srdata_keywordAnalysis/kor_stopwords.txt'\n",
        "stopwords = load_stopwords(stopword_path)"
      ],
      "metadata": {
        "id": "hzTDmXLARmDz",
        "colab": {
          "base_uri": "https://localhost:8080/"
        },
        "outputId": "6d2a2eb6-fbfa-4cde-92cd-98027dec0ea4"
      },
      "execution_count": 9,
      "outputs": [
        {
          "output_type": "stream",
          "name": "stdout",
          "text": [
            "불용어셋을 가져오고 있습니다.\n"
          ]
        }
      ]
    },
    {
      "cell_type": "markdown",
      "source": [
        "#### **1-4. To preprocess rawdata first**\n",
        "- first preprocess > content, action 분리하여 셋 구축"
      ],
      "metadata": {
        "id": "ZEWfU_vjF44n"
      }
    },
    {
      "cell_type": "code",
      "source": [
        "# content와 action 컬럼 분리하여 데이터 셋 구축\n",
        "df_content = df.drop(['id', 'process', 'title', 'action'], axis=1)\n",
        "df_content.drop_duplicates(subset=None, keep='first', inplace=True, ignore_index=False)\n",
        "df_content.rename(columns={'content':'text'}, inplace=True)\n",
        "df_content.reset_index(drop=True, inplace=True)\n",
        "\n",
        "df_action = df.drop(['id', 'process', 'title', 'content'], axis=1)\n",
        "df_action.rename(columns={'action':'text'}, inplace=True)\n",
        "df_action.reset_index(drop=True, inplace=True)\n",
        "\n",
        "# df_content"
      ],
      "metadata": {
        "id": "5skWocwDeFrD"
      },
      "execution_count": 10,
      "outputs": []
    },
    {
      "cell_type": "markdown",
      "source": [
        "#### **1-5. EDA**\n",
        "- 탐색적분석(Exploratory Data Analysis)"
      ],
      "metadata": {
        "id": "6PHqofR9uu1X"
      }
    },
    {
      "cell_type": "code",
      "source": [
        "# info 컬럼 정보 확인\n",
        "print(\"df_content.info() is: \\n\")\n",
        "print(df_content.info())\n",
        "print(\"\\n\")\n",
        "print(\"df_action.info() is: \\n\")\n",
        "print(df_action.info())"
      ],
      "metadata": {
        "colab": {
          "base_uri": "https://localhost:8080/"
        },
        "id": "Qr8SXw6fGhSd",
        "outputId": "1bca3ec4-2ad8-4c9b-efd6-f7b7a92dfde7"
      },
      "execution_count": 11,
      "outputs": [
        {
          "output_type": "stream",
          "name": "stdout",
          "text": [
            "df_content.info() is: \n",
            "\n",
            "<class 'pandas.core.frame.DataFrame'>\n",
            "RangeIndex: 2596 entries, 0 to 2595\n",
            "Data columns (total 2 columns):\n",
            " #   Column  Non-Null Count  Dtype \n",
            "---  ------  --------------  ----- \n",
            " 0   system  2596 non-null   int64 \n",
            " 1   text    2596 non-null   object\n",
            "dtypes: int64(1), object(1)\n",
            "memory usage: 40.7+ KB\n",
            "None\n",
            "\n",
            "\n",
            "df_action.info() is: \n",
            "\n",
            "<class 'pandas.core.frame.DataFrame'>\n",
            "RangeIndex: 7968 entries, 0 to 7967\n",
            "Data columns (total 2 columns):\n",
            " #   Column  Non-Null Count  Dtype \n",
            "---  ------  --------------  ----- \n",
            " 0   system  7968 non-null   int64 \n",
            " 1   text    7964 non-null   object\n",
            "dtypes: int64(1), object(1)\n",
            "memory usage: 124.6+ KB\n",
            "None\n"
          ]
        }
      ]
    },
    {
      "cell_type": "code",
      "source": [
        "# describe 통계값 확인\n",
        "print(\"df_content.describe() is: \\n\")\n",
        "print(df_content.describe(include='all'))\n",
        "print(\"\\n\")\n",
        "print(\"df_action.describe() is: \\n\")\n",
        "print(df_action.describe(include='all'))"
      ],
      "metadata": {
        "colab": {
          "base_uri": "https://localhost:8080/"
        },
        "id": "BjxjOzG1Gvzl",
        "outputId": "7be01aad-665f-4e1c-caca-95d924eb47af"
      },
      "execution_count": 12,
      "outputs": [
        {
          "output_type": "stream",
          "name": "stdout",
          "text": [
            "df_content.describe() is: \n",
            "\n",
            "             system                                               text\n",
            "count   2596.000000                                               2596\n",
            "unique          NaN                                               2593\n",
            "top             NaN  기관명: 통계청\\n\\n사업명: 인공지능 기반 통계분류 자동화 시스템 구축\\n\\n\\n...\n",
            "freq            NaN                                                  2\n",
            "mean       0.887134                                                NaN\n",
            "std        0.316490                                                NaN\n",
            "min        0.000000                                                NaN\n",
            "25%        1.000000                                                NaN\n",
            "50%        1.000000                                                NaN\n",
            "75%        1.000000                                                NaN\n",
            "max        1.000000                                                NaN\n",
            "\n",
            "\n",
            "df_action.describe() is: \n",
            "\n",
            "             system                                               text\n",
            "count   7968.000000                                               7964\n",
            "unique          NaN                                               6218\n",
            "top             NaN  안녕하세요.\\n\\nNIA 이지나 선임입니다.\\n\\n\\n\\n해당사항 처리해주시면 감사...\n",
            "freq            NaN                                                456\n",
            "mean       0.925326                                                NaN\n",
            "std        0.262881                                                NaN\n",
            "min        0.000000                                                NaN\n",
            "25%        1.000000                                                NaN\n",
            "50%        1.000000                                                NaN\n",
            "75%        1.000000                                                NaN\n",
            "max        1.000000                                                NaN\n"
          ]
        }
      ]
    },
    {
      "cell_type": "code",
      "source": [
        "# system = 1,0 개수 확인\n",
        "print(\"df_content['system'].value_counts() is: \\n\")\n",
        "print(df_content['system'].value_counts())\n",
        "print(\"\\n\")\n",
        "print(\"df_action['system'].value_counts() is: \\n\")\n",
        "print(df_action['system'].value_counts())"
      ],
      "metadata": {
        "colab": {
          "base_uri": "https://localhost:8080/"
        },
        "id": "6Cw-EM-Chczl",
        "outputId": "266d7490-be64-45c9-a876-237e0678ad83"
      },
      "execution_count": 13,
      "outputs": [
        {
          "output_type": "stream",
          "name": "stdout",
          "text": [
            "df_content['system'].value_counts() is: \n",
            "\n",
            "1    2303\n",
            "0     293\n",
            "Name: system, dtype: int64\n",
            "\n",
            "\n",
            "df_action['system'].value_counts() is: \n",
            "\n",
            "1    7373\n",
            "0     595\n",
            "Name: system, dtype: int64\n"
          ]
        }
      ]
    },
    {
      "cell_type": "markdown",
      "source": [
        "# **2. 데이터 전처리**"
      ],
      "metadata": {
        "id": "lxOV7bgkH_Bl"
      }
    },
    {
      "cell_type": "markdown",
      "source": [
        "#### **2-1. Data Preprocessing**\n",
        "- Meaningful Word List : make_wordlist 함수\n",
        "- Data Frame Word Preprocessing : preprocess 함수"
      ],
      "metadata": {
        "id": "o9AZL4urkZ0w"
      }
    },
    {
      "cell_type": "code",
      "source": [
        "# Meaningful Word List 추출 -> word_list\n",
        "word_list = make_wordlist(\" \".join(df_content['text'].tolist()), stopwords)"
      ],
      "metadata": {
        "colab": {
          "base_uri": "https://localhost:8080/"
        },
        "id": "RiZQeLNvxW4H",
        "outputId": "548b8017-1604-4e04-90b0-e55cba0e779c"
      },
      "execution_count": 14,
      "outputs": [
        {
          "output_type": "stream",
          "name": "stdout",
          "text": [
            "Rawdata를 문장 정리 중...\n",
            "데이터 정제 중...\n",
            "형태소 추출 중...\n",
            "한글자 제거 중...\n",
            "불용어 제거 중...\n",
            "의미있는 단어리스트 생성 중...\n"
          ]
        },
        {
          "output_type": "stream",
          "name": "stderr",
          "text": [
            "100%|██████████| 96878/96878 [06:24<00:00, 252.21it/s]\n"
          ]
        }
      ]
    },
    {
      "cell_type": "markdown",
      "source": [
        "# **3. 벡터화 및 토큰화**"
      ],
      "metadata": {
        "id": "DThV2sQzI6Pn"
      }
    },
    {
      "cell_type": "markdown",
      "source": [
        "#### **3-1. Count Vectorizer**\n",
        "- count_vectorizer 함수\n",
        "- CountVectorizer : 단어의 출현 빈도로 여러 문장(또는 문서) 벡터화"
      ],
      "metadata": {
        "id": "VSUkhehJ-qlE"
      }
    },
    {
      "cell_type": "code",
      "source": [
        "count_vect = count_vectorizer(df_content['text'])\n",
        "#count_vect"
      ],
      "metadata": {
        "id": "CewnS4qKTSd8"
      },
      "execution_count": 36,
      "outputs": []
    },
    {
      "cell_type": "markdown",
      "source": [
        "#### **3-2. TF-IDF Vectorizer**\n",
        "- tf_idf 함수\n",
        "- TF-IDF(Term Frequency-Inverse Document Frequency)는 단어의 빈도와 역 문서 빈도(문서의 빈도에 특정 식을 취함)를 사용하여 DTM 내의 각 단어들마다 중요한 정도를 가중치로 주는 방법"
      ],
      "metadata": {
        "id": "FwBoYQHb-8vw"
      }
    },
    {
      "cell_type": "code",
      "source": [
        "# TF-IDF Vectorizer 및 {인덱스:단어} 맵핑\n",
        "tf_idf_vect = tf_idf(df_content['text'])\n",
        "\n",
        "# tf_idf_vect\n",
        "# invert_index_vectorizer"
      ],
      "metadata": {
        "id": "P5jZGAw1Q7Qe"
      },
      "execution_count": 38,
      "outputs": []
    },
    {
      "cell_type": "markdown",
      "source": [
        "# **4. TF-IDF 행렬 및 Cosine 유사도 측정**\n",
        "- TF-IDF Matrix 생성\n",
        "- Cosine Similarity 측정"
      ],
      "metadata": {
        "id": "7iGA37VOT6O0"
      }
    },
    {
      "cell_type": "markdown",
      "source": [
        "#### **4-1. TF-IDF Matrix**"
      ],
      "metadata": {
        "id": "luybFs-xUpO4"
      }
    },
    {
      "cell_type": "code",
      "source": [
        "# TF-IDF Matrix 생성\n",
        "tfidf = TfidfVectorizer()\n",
        "tfidf_matrix = tfidf.fit_transform(df_content['text'])\n",
        "tfidf_matrix"
      ],
      "metadata": {
        "id": "DRCpgjDuT1nV",
        "colab": {
          "base_uri": "https://localhost:8080/"
        },
        "outputId": "62904b88-c7e2-4163-a36e-8f9b82ef9821"
      },
      "execution_count": 19,
      "outputs": [
        {
          "output_type": "execute_result",
          "data": {
            "text/plain": [
              "<2596x18797 sparse matrix of type '<class 'numpy.float64'>'\n",
              "\twith 75138 stored elements in Compressed Sparse Row format>"
            ]
          },
          "metadata": {},
          "execution_count": 19
        }
      ]
    },
    {
      "cell_type": "markdown",
      "source": [
        "# **5. Logistic Regression Model**"
      ],
      "metadata": {
        "id": "mE7qPVwv_Ykw"
      }
    },
    {
      "cell_type": "markdown",
      "source": [
        "#### **5-1. Second preprocessing before model learning**\n",
        "- 편향된 학습을 방지하기 위해 1/0 (P/N) 비율을 적절히 맞춰줘야함\n",
        "- 순차적인 학습으로 편향된 결과 방지를 위해 1/0 인덱스를 랜덤 셔플\n",
        "- 학습용 데이터(X, Y) 세팅"
      ],
      "metadata": {
        "id": "piHy-4m5MGY1"
      }
    },
    {
      "cell_type": "code",
      "source": [
        "# system = 1,0 중 최소값 추출\n",
        "min_cnt = min(df_content['system'].value_counts().tolist())\n",
        "pos_random_idx = df_content[df_content['system']==1].sample(min_cnt, random_state=40).index.tolist()\n",
        "neg_random_idx = df_content[df_content['system']==0].sample(min_cnt, random_state=40).index.tolist()"
      ],
      "metadata": {
        "id": "2gQeKWO9rV9k"
      },
      "execution_count": 21,
      "outputs": []
    },
    {
      "cell_type": "code",
      "source": [
        "# 데이터 값 셔플: 데이터 값이 순차적일 경우, 먼저 나온 라벨 기준 학습으로 편향될 가능성 존재\n",
        "import random\n",
        "random_idx = pos_random_idx + neg_random_idx\n",
        "random.shuffle(random_idx)"
      ],
      "metadata": {
        "id": "qeMcsenG-7Ki"
      },
      "execution_count": 22,
      "outputs": []
    },
    {
      "cell_type": "code",
      "source": [
        "# x : index 매핑된 TF_IDF Vector\n",
        "# y : system (1/0) 라벨\n",
        "x = tf_idf_vect[random_idx]\n",
        "y = df_content['system'][random_idx]"
      ],
      "metadata": {
        "id": "xVDqKF2K_Z3n"
      },
      "execution_count": 23,
      "outputs": []
    },
    {
      "cell_type": "markdown",
      "source": [
        "#### **5-2. LogisticRegression Model fit**"
      ],
      "metadata": {
        "id": "jav-bLOQOIcx"
      }
    },
    {
      "cell_type": "code",
      "source": [
        "model = LogisticRegression()\n",
        "model.fit(x, y)"
      ],
      "metadata": {
        "colab": {
          "base_uri": "https://localhost:8080/"
        },
        "id": "W6DGWe4S_Zvw",
        "outputId": "224e115e-3b6f-4e97-fdf3-c9df00915bf6"
      },
      "execution_count": 24,
      "outputs": [
        {
          "output_type": "execute_result",
          "data": {
            "text/plain": [
              "LogisticRegression()"
            ]
          },
          "metadata": {},
          "execution_count": 24
        }
      ]
    },
    {
      "cell_type": "markdown",
      "source": [
        "#### **5-3. Check model performance**\n",
        "- model_performance 함수"
      ],
      "metadata": {
        "id": "4mYLoND2OSEy"
      }
    },
    {
      "cell_type": "code",
      "source": [
        "# 예측모델 성능지표 값\n",
        "y_pred = model.predict(x)\n",
        "model_performance(y_pred)"
      ],
      "metadata": {
        "colab": {
          "base_uri": "https://localhost:8080/",
          "height": 298
        },
        "id": "R_w6iOiW_uLO",
        "outputId": "e7e18644-0e77-4274-9dfe-a33a8f062783"
      },
      "execution_count": 25,
      "outputs": [
        {
          "output_type": "stream",
          "name": "stdout",
          "text": [
            "accuracy: 0.98\n",
            "precision: 0.98\n",
            "recall: 0.98\n",
            "F1: 0.98\n"
          ]
        },
        {
          "output_type": "display_data",
          "data": {
            "text/plain": [
              "<Figure size 288x216 with 2 Axes>"
            ],
            "image/png": "[encoded data removed]"
          },
          "metadata": {
            "needs_background": "light"
          }
        }
      ]
    },
    {
      "cell_type": "markdown",
      "source": [
        "# **6. 중요 키워드 추출**\n",
        "- 모델이 학습한 결과를 가지고 키워드를 추출\n",
        "- 긍정(system=1)에는 어떤 키워드가 영향을 주었는지, 부정(system=0)에는 어떤 키워드가 영향을 주었는지\n",
        "- 로지틱스 회귀모델의 coef_속성 지표로 추출"
      ],
      "metadata": {
        "id": "YOMOcoO7PG4Q"
      }
    },
    {
      "cell_type": "markdown",
      "source": [
        "#### **6-1. coef 속성값의 index list생성**"
      ],
      "metadata": {
        "id": "wat3m_G2tYPk"
      }
    },
    {
      "cell_type": "code",
      "source": [
        "# df_content\n",
        "coef_pos_index = sorted(((value, index) for index, value in enumerate(model.coef_[0])), reverse = True)\n",
        "coef_neg_index = sorted(((value, index) for index, value in enumerate(model.coef_[0])), reverse = False)"
      ],
      "metadata": {
        "id": "6XVd2Cl1_v0Z"
      },
      "execution_count": 26,
      "outputs": []
    },
    {
      "cell_type": "code",
      "source": [
        "# 통계 추출용\n",
        "keywords_list = []"
      ],
      "metadata": {
        "id": "d9Kt5dwLi3vq"
      },
      "execution_count": 27,
      "outputs": []
    },
    {
      "cell_type": "code",
      "source": [
        "# 긍정(system=1)에 영향 준 상위 n개 키워드\n",
        "N = 10\n",
        "for coef in coef_pos_index[:N]:\n",
        "  print(invert_index_vectorizer[coef[1]], coef[0])\n",
        "  keywords_list.append(invert_index_vectorizer[coef[1]])"
      ],
      "metadata": {
        "colab": {
          "base_uri": "https://localhost:8080/"
        },
        "id": "AiHWEsOF_6Pc",
        "outputId": "dc17fe98-7e0b-4fde-d805-c8fa08436dbc"
      },
      "execution_count": 28,
      "outputs": [
        {
          "output_type": "stream",
          "name": "stdout",
          "text": [
            "요청 2.9934717486020643\n",
            "수정 2.773248143362135\n",
            "변경 2.4080905232714516\n",
            "삭제 1.9925047487348029\n",
            "등록 1.3828242380015703\n",
            "파일 1.3607354302120238\n",
            "업명 1.1921592062484867\n",
            "담당자 1.1808846089674039\n",
            "단계 1.0486557617368988\n",
            "현황 0.9304521273500402\n"
          ]
        }
      ]
    },
    {
      "cell_type": "markdown",
      "source": [
        "# **7. 통계 추출**"
      ],
      "metadata": {
        "id": "WxM-0n_AjLao"
      }
    },
    {
      "cell_type": "markdown",
      "source": [
        "#### 7-1. 상위 키워드 등장한 SR 건수"
      ],
      "metadata": {
        "id": "CQQUEvzqjQU0"
      }
    },
    {
      "cell_type": "code",
      "source": [
        "df_stats = pd.DataFrame(columns=['keyword', 'count'])\n",
        "keyword_cnt_dict = {}\n",
        "for word in keywords_list:\n",
        "  cnt = word_count(word) \n",
        "  keyword_cnt_dict[word] = cnt\n",
        "keyword_cnt_dict\n",
        "\n",
        "# temp_cnt = 0\n",
        "# cnt = 0\n",
        "# for word in df_content['text']:\n",
        "#   temp = preprocess(word, word_list)\n",
        "#   for text in temp:\n",
        "#     if text in keywords_list[0:3]:\n",
        "#       cnt = cnt + 1\n",
        "#       break\n",
        "# # df_content.info()\n",
        "# print(\"키워드 등장한 질문 개수: \", cnt)\n",
        "# print(\"전체 질문 개수: \", 2596 )"
      ],
      "metadata": {
        "colab": {
          "base_uri": "https://localhost:8080/"
        },
        "id": "LrTOg8y2jWIW",
        "outputId": "759cc120-1d39-4401-bac5-5efc4ed8a808"
      },
      "execution_count": 29,
      "outputs": [
        {
          "output_type": "execute_result",
          "data": {
            "text/plain": [
              "{'요청': 1500,\n",
              " '수정': 780,\n",
              " '변경': 893,\n",
              " '삭제': 284,\n",
              " '등록': 816,\n",
              " '파일': 490,\n",
              " '업명': 712,\n",
              " '담당자': 490,\n",
              " '단계': 348,\n",
              " '현황': 300}"
            ]
          },
          "metadata": {},
          "execution_count": 29
        }
      ]
    },
    {
      "cell_type": "markdown",
      "source": [
        "# **8. 시각화**"
      ],
      "metadata": {
        "id": "tdztrd3uJHYI"
      }
    },
    {
      "cell_type": "markdown",
      "source": [
        "#### 8-1. Word Cloud"
      ],
      "metadata": {
        "id": "sWe81a5yROfL"
      }
    },
    {
      "cell_type": "code",
      "source": [
        "# 상위 N개 키워드 Dictionary에 저장\n",
        "top_keyword_dict = {}\n",
        "for coef in coef_pos_index[:N]:\n",
        "  top_keyword_dict.setdefault(invert_index_vectorizer[coef[1]], coef[0])\n",
        "top_keyword_dict"
      ],
      "metadata": {
        "colab": {
          "base_uri": "https://localhost:8080/"
        },
        "id": "ljyyXdhQ__2f",
        "outputId": "3a657ebb-c13a-4567-e2a0-134735249633"
      },
      "execution_count": 30,
      "outputs": [
        {
          "output_type": "execute_result",
          "data": {
            "text/plain": [
              "{'요청': 2.9934717486020643,\n",
              " '수정': 2.773248143362135,\n",
              " '변경': 2.4080905232714516,\n",
              " '삭제': 1.9925047487348029,\n",
              " '등록': 1.3828242380015703,\n",
              " '파일': 1.3607354302120238,\n",
              " '업명': 1.1921592062484867,\n",
              " '담당자': 1.1808846089674039,\n",
              " '단계': 1.0486557617368988,\n",
              " '현황': 0.9304521273500402}"
            ]
          },
          "metadata": {},
          "execution_count": 30
        }
      ]
    },
    {
      "cell_type": "code",
      "source": [
        "# WordCloud 시각화\n",
        "wc = WordCloud(background_color='white', font_path='/content/drive/MyDrive/Colab Notebooks/srdata_keywordAnalysis/NanumGothic.ttf')\n",
        "wc.generate_from_frequencies(top_keyword_dict)\n",
        "figure = plt.figure(figsize=(12,12))\n",
        "ax = figure.add_subplot(1,1,1)\n",
        "ax.axis('off')\n",
        "ax.imshow(wc)\n",
        "plt.show();"
      ],
      "metadata": {
        "colab": {
          "base_uri": "https://localhost:8080/",
          "height": 366
        },
        "id": "x4spmcOpLtP3",
        "outputId": "66276e84-e9de-4791-b455-3c8a10bd6079"
      },
      "execution_count": 35,
      "outputs": [
        {
          "output_type": "display_data",
          "data": {
            "text/plain": [
              "<Figure size 864x864 with 1 Axes>"
            ],
            "image/png": "[encoded data removed]"
          },
          "metadata": {
            "needs_background": "light"
          }
        }
      ]
    },
    {
      "cell_type": "code",
      "source": [
        "# 파일 저장\n",
        "# wc.to_file('/content/drive/MyDrive/Colab Notebooks/WordCloud002.jpg')"
      ],
      "metadata": {
        "colab": {
          "base_uri": "https://localhost:8080/"
        },
        "id": "E_URoZCXNkbO",
        "outputId": "579e4e05-b4ed-4a69-f4f7-97debe990125"
      },
      "execution_count": null,
      "outputs": [
        {
          "output_type": "execute_result",
          "data": {
            "text/plain": [
              "<wordcloud.wordcloud.WordCloud at 0x7fc9b0d6f890>"
            ]
          },
          "metadata": {},
          "execution_count": 336
        }
      ]
    }
  ]
}